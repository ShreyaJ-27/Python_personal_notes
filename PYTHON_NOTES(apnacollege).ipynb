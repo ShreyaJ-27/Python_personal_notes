{
  "nbformat": 4,
  "nbformat_minor": 0,
  "metadata": {
    "colab": {
      "provenance": [],
      "include_colab_link": true
    },
    "kernelspec": {
      "name": "python3",
      "display_name": "Python 3"
    },
    "language_info": {
      "name": "python"
    }
  },
  "cells": [
    {
      "cell_type": "markdown",
      "metadata": {
        "id": "view-in-github",
        "colab_type": "text"
      },
      "source": [
        "<a href=\"https://colab.research.google.com/github/ShreyaJ-27/Python_personal_notes/blob/main/PYTHON_NOTES(apnacollege).ipynb\" target=\"_parent\"><img src=\"https://colab.research.google.com/assets/colab-badge.svg\" alt=\"Open In Colab\"/></a>"
      ]
    },
    {
      "cell_type": "code",
      "source": [
        "#LECTURE1"
      ],
      "metadata": {
        "id": "HrelE8sceb_8"
      },
      "execution_count": null,
      "outputs": []
    },
    {
      "cell_type": "code",
      "execution_count": null,
      "metadata": {
        "colab": {
          "base_uri": "https://localhost:8080/"
        },
        "id": "0jCboNw8rhyR",
        "outputId": "504d9dd1-bd33-40b4-8ae3-99c5bbdac474"
      },
      "outputs": [
        {
          "output_type": "stream",
          "name": "stdout",
          "text": [
            "hello world\n"
          ]
        }
      ],
      "source": [
        "print(\"hello world\")\n"
      ]
    },
    {
      "cell_type": "code",
      "source": [
        "print(\"Pawsome\")"
      ],
      "metadata": {
        "colab": {
          "base_uri": "https://localhost:8080/"
        },
        "id": "7Jy5DFeOso82",
        "outputId": "a7f1d9be-9687-467b-f2c7-ce20497fb3d1"
      },
      "execution_count": null,
      "outputs": [
        {
          "output_type": "stream",
          "name": "stdout",
          "text": [
            "Pawsome\n"
          ]
        }
      ]
    },
    {
      "cell_type": "code",
      "source": [
        "name= \"Shreya\"\n",
        "age=19\n",
        "price=25.99\n",
        "print(name)\n",
        "print(age)\n",
        "print(price)\n",
        "print(name,age,price)\n",
        "print(type(name))\n",
        "print(type(age))\n",
        "print(type(price))"
      ],
      "metadata": {
        "id": "Yw3qcFA_YJZa",
        "colab": {
          "base_uri": "https://localhost:8080/"
        },
        "outputId": "9ddc8c56-020d-4e24-916f-fa4801078eac"
      },
      "execution_count": null,
      "outputs": [
        {
          "output_type": "stream",
          "name": "stdout",
          "text": [
            "Shreya\n",
            "19\n",
            "25.99\n",
            "Shreya 19 25.99\n",
            "<class 'str'>\n",
            "<class 'int'>\n",
            "<class 'float'>\n"
          ]
        }
      ]
    },
    {
      "cell_type": "code",
      "source": [
        "#input 2 numbers amd print their sum\n",
        "a=float(input(\"enter a value:\"))\n",
        "b=float(input(\"enter b value:\"))\n",
        "print(\"Sum of entered value:\",a+b)\n",
        "print(type(a+b))\n",
        "print(type(a))\n",
        "print(type(b))"
      ],
      "metadata": {
        "id": "jAt4Z_p6TaFC",
        "colab": {
          "base_uri": "https://localhost:8080/"
        },
        "outputId": "fec9b89f-fe0d-4d9e-f0a7-c4d9f505090c"
      },
      "execution_count": null,
      "outputs": [
        {
          "output_type": "stream",
          "name": "stdout",
          "text": [
            "enter a value:88\n",
            "enter b value:76\n",
            "Sum of entered value: 164.0\n",
            "<class 'float'>\n",
            "<class 'float'>\n",
            "<class 'float'>\n"
          ]
        }
      ]
    },
    {
      "cell_type": "code",
      "source": [
        "#Area of square by inputing value of side from user\n",
        "s=int(input(\"enter value of side of square:\"))\n",
        "Area=s*s #s**2\n",
        "print(\"Area of square:\",Area)"
      ],
      "metadata": {
        "colab": {
          "base_uri": "https://localhost:8080/"
        },
        "id": "tRtmvuKGd4gQ",
        "outputId": "ad8b342b-c37b-4b34-ec9d-0a5d44418bb4"
      },
      "execution_count": null,
      "outputs": [
        {
          "output_type": "stream",
          "name": "stdout",
          "text": [
            "enter value of side of square:6\n",
            "Area of square: 36\n"
          ]
        }
      ]
    },
    {
      "cell_type": "code",
      "source": [
        "#input 2 floating no.& print their average\n",
        "a=float(input(\"Enter first value:\"))\n",
        "b=float(input(\"Enter second value:\"))\n",
        "Avg=(a+b)/2\n",
        "print(\"Average of entered values:\", Avg)"
      ],
      "metadata": {
        "colab": {
          "base_uri": "https://localhost:8080/"
        },
        "id": "rq4YO-n7fKx9",
        "outputId": "1ab1afeb-aca4-4338-a24d-72eba77ef6ac"
      },
      "execution_count": null,
      "outputs": [
        {
          "output_type": "stream",
          "name": "stdout",
          "text": [
            "Enter first value:44.6\n",
            "Enter second value:4\n",
            "Average of entered values: 24.3\n"
          ]
        }
      ]
    },
    {
      "cell_type": "code",
      "source": [
        "#input 2 numbers and print true false based on relational operator\n",
        "a=int(input(\"Enter first value:\"))\n",
        "b=int(input(\"Enter second value:\"))\n",
        "print(\"a>=b\",a>=b)"
      ],
      "metadata": {
        "colab": {
          "base_uri": "https://localhost:8080/"
        },
        "id": "TRef8EOygX-K",
        "outputId": "5a5cd3dd-04fc-43d2-f2df-85f39b2917e2"
      },
      "execution_count": null,
      "outputs": [
        {
          "output_type": "stream",
          "name": "stdout",
          "text": [
            "Enter first value:56\n",
            "Enter second value:89\n",
            "a>=b False\n"
          ]
        }
      ]
    },
    {
      "cell_type": "code",
      "source": [
        "#LECTURE 2"
      ],
      "metadata": {
        "id": "bD8MNjWae5Y1"
      },
      "execution_count": null,
      "outputs": []
    },
    {
      "cell_type": "code",
      "source": [
        "#input user's first name and print its length\n",
        "name=input(\"Enter your first name\")\n",
        "print(\"Length of your first name:\",len(name))"
      ],
      "metadata": {
        "id": "neNJiptCeb0u",
        "colab": {
          "base_uri": "https://localhost:8080/"
        },
        "outputId": "7ecb53b2-b6b7-428a-99b0-99ef3bb56393"
      },
      "execution_count": null,
      "outputs": [
        {
          "output_type": "stream",
          "name": "stdout",
          "text": [
            "Enter your first nameShreya\n",
            "Length of your first name: 6\n"
          ]
        }
      ]
    },
    {
      "cell_type": "code",
      "source": [
        "#find occurrence of $ in a string\n",
        "val=input(\"Enter a string:\")\n",
        "print(val.count(\"$\"))"
      ],
      "metadata": {
        "colab": {
          "base_uri": "https://localhost:8080/"
        },
        "id": "2hKDDkhQ4wyY",
        "outputId": "aadc8801-bd18-4816-a7cd-4917eefcbe93"
      },
      "execution_count": null,
      "outputs": [
        {
          "output_type": "stream",
          "name": "stdout",
          "text": [
            "Enter a string:Money$\n",
            "1\n"
          ]
        }
      ]
    },
    {
      "cell_type": "code",
      "source": [
        "#To check if a number entered be user is odd or even\n",
        "n=int(input(\"Enter a number:\"))\n",
        "if(n%2==0):\n",
        "  print(\"Entered number is even.\")\n",
        "else:\n",
        "  print(\"Entered number is odd.\")\n"
      ],
      "metadata": {
        "id": "Zw4QKetG56vZ",
        "colab": {
          "base_uri": "https://localhost:8080/"
        },
        "outputId": "f2c3e628-38b7-48df-e9bb-b1051214f8f2"
      },
      "execution_count": null,
      "outputs": [
        {
          "output_type": "stream",
          "name": "stdout",
          "text": [
            "Enter a number:89\n",
            "Entered number is odd.\n"
          ]
        }
      ]
    },
    {
      "cell_type": "code",
      "source": [
        "#greatest of 3 numbers entered\n",
        "n1=int(input(\"Enter n1 value:\"))\n",
        "n2=int(input(\"Enter n2 value:\"))\n",
        "n3=int(input(\"Enter n3 value:\"))\n",
        "if(n1>n2 and n1>n3):\n",
        "  print(n1,\"is greatest number.\")\n",
        "elif(n2>n1 and n2>n3):\n",
        "  print(n2,\"is greatest number.\")\n",
        "else:\n",
        "  print(n3,\"is greatest number.\")"
      ],
      "metadata": {
        "colab": {
          "base_uri": "https://localhost:8080/"
        },
        "id": "bnfHNKtykdVt",
        "outputId": "7fe2f338-bb16-4488-ae90-de021eab21c7"
      },
      "execution_count": null,
      "outputs": [
        {
          "output_type": "stream",
          "name": "stdout",
          "text": [
            "Enter n1 value:5\n",
            "Enter n2 value:8\n",
            "Enter n3 value:2\n",
            "8 is greatest number.\n"
          ]
        }
      ]
    },
    {
      "cell_type": "code",
      "source": [
        "#check multiple of 7\n",
        "n=int(input(\"Enter a number:\"))\n",
        "if(n%7==0):\n",
        "  print(n,\"is multiple of 7.\")\n",
        "else:\n",
        "  print(n,\"is not multiple of 7.\")"
      ],
      "metadata": {
        "colab": {
          "base_uri": "https://localhost:8080/"
        },
        "id": "Eh47oLkGmuI1",
        "outputId": "e699cd5c-0314-4dd1-9e36-8d209d6a8128"
      },
      "execution_count": null,
      "outputs": [
        {
          "output_type": "stream",
          "name": "stdout",
          "text": [
            "Enter a number:53\n",
            "53 is not multiple of 7.\n"
          ]
        }
      ]
    },
    {
      "cell_type": "code",
      "source": [
        "#LECTURE 3"
      ],
      "metadata": {
        "id": "1YNgy5z7fAVf"
      },
      "execution_count": null,
      "outputs": []
    },
    {
      "cell_type": "code",
      "source": [
        "#ask user to enter their 3 favorite movies& store them in a list\n",
        "'''a=input(\"Enter your 1st favorite movie:\")\n",
        "b=input(\"Enter your 2nd favorite movie:\")\n",
        "c=input(\"Enter your 3rd favorite movie:\")\n",
        "list_movies=[a,b,c]\n",
        "print(\"Favorite movies:\",list_movies)'''\n",
        "\n",
        "\n",
        "#you can use append method too\n",
        "movies=[]\n",
        "mov1=input(\"Enter your 1st favorite movie:\")\n",
        "mov2=input(\"Enter your 2nd favorite movie:\")\n",
        "mov3=input(\"Enter your 3rd favorite movie:\")\n",
        "movies.append(mov1)\n",
        "movies.append(mov2)\n",
        "movies.append(mov3)\n",
        "print(\"Favorite movies:\",movies)"
      ],
      "metadata": {
        "id": "rmFyaUfynRhP",
        "colab": {
          "base_uri": "https://localhost:8080/"
        },
        "outputId": "07ea4786-7793-4498-c113-0c76db61ccc5"
      },
      "execution_count": null,
      "outputs": [
        {
          "output_type": "stream",
          "name": "stdout",
          "text": [
            "Enter your 1st favorite movie:Fast and furious \n",
            "Enter your 2nd favorite movie:Undisputed\n",
            "Enter your 3rd favorite movie:Transformers\n",
            "Favorite movies: ['Fast and furious ', 'Undisputed', 'Transformers']\n"
          ]
        }
      ]
    },
    {
      "cell_type": "code",
      "source": [
        "'''UNDONE PROGRAM!!!!!!'''\n",
        "\n",
        "\n",
        "#check if a list contains palindrome of elements\n",
        "'''FIXED PROGRAM!!!!!!'''\n",
        "\n",
        "# Check if a list contains palindrome of elements\n",
        "l1 = [1, 2, 3, 2, 1]\n",
        "l3 = l1.copy()         # Make a copy to keep l1 unchanged\n",
        "l3.reverse()           # Reverse the copy in-place\n",
        "l2 = l3                # Now l2 is the reversed list\n",
        "\n",
        "if l1 == l2:\n",
        "    print(\"List contains palindrome of elements.\")\n",
        "else:\n",
        "    print(\"List does NOT contain palindrome of elements.\")\n"
      ],
      "metadata": {
        "colab": {
          "base_uri": "https://localhost:8080/"
        },
        "id": "jyAVYJM4Nhej",
        "outputId": "3e8f9238-882a-4e33-b24b-e61ec42d71ea"
      },
      "execution_count": null,
      "outputs": [
        {
          "output_type": "stream",
          "name": "stdout",
          "text": [
            "List contains palindrome of elements.\n"
          ]
        }
      ]
    },
    {
      "cell_type": "code",
      "source": [
        "#To count number of students with grade \"A\"\n",
        "\n",
        "list_grade=[\"C\",\"D\",\"A\",\"A\",\"B\",\"B\",\"A\"]\n",
        "print(list_grade.count(\"A\"))\n",
        "\n",
        "#To sort above list from \"A\" to \"D\"\n",
        "list_grade.sort()\n",
        "print(list_grade)"
      ],
      "metadata": {
        "colab": {
          "base_uri": "https://localhost:8080/"
        },
        "id": "HytAz1ypSZF9",
        "outputId": "4ad9b724-a2d6-42b7-99d1-d98e14fd270d"
      },
      "execution_count": null,
      "outputs": [
        {
          "output_type": "stream",
          "name": "stdout",
          "text": [
            "3\n",
            "['A', 'A', 'A', 'B', 'B', 'C', 'D']\n"
          ]
        }
      ]
    },
    {
      "cell_type": "code",
      "source": [],
      "metadata": {
        "id": "EpUI-Yjn-V59"
      },
      "execution_count": null,
      "outputs": []
    },
    {
      "cell_type": "code",
      "source": [
        "#LECTURE 4"
      ],
      "metadata": {
        "id": "wgpqDI9nfD3n"
      },
      "execution_count": null,
      "outputs": []
    },
    {
      "cell_type": "code",
      "source": [
        "#Store word meanings in a python dictionary\n",
        "info={\n",
        "    \"table\" : (\"a piece of furniture\",\"lists of facts and figures\"),\n",
        "    \"cat\" : \"a small animal\"\n",
        "}\n",
        "lis=list(info[\"table\"])\n",
        "print(type(lis))\n",
        "\n",
        "print(info)"
      ],
      "metadata": {
        "id": "RMeSGQYG5SQz",
        "colab": {
          "base_uri": "https://localhost:8080/"
        },
        "outputId": "c88f5e35-20e4-43f6-8d10-c5444df2b9f4"
      },
      "execution_count": null,
      "outputs": [
        {
          "output_type": "stream",
          "name": "stdout",
          "text": [
            "<class 'list'>\n",
            "{'table': ('a piece of furniture', 'lists of facts and figures'), 'cat': 'a small animal'}\n"
          ]
        }
      ]
    },
    {
      "cell_type": "code",
      "source": [
        "#number of classrooms required for given list of subjects\n",
        "subjects={\"python\",\"java\",\"C++\",\"python\",\"javascript\",\n",
        "          \"java\",\"python\",\"java\",\"C++\",\"C\"}\n",
        "\n",
        "print(\"Number of classrooms required for given list of subjects:\",len(subjects))"
      ],
      "metadata": {
        "colab": {
          "base_uri": "https://localhost:8080/"
        },
        "id": "uQLdT0gNf7V2",
        "outputId": "32a7ed25-9c00-49fd-8676-c832d6a11fd3"
      },
      "execution_count": null,
      "outputs": [
        {
          "output_type": "stream",
          "name": "stdout",
          "text": [
            "Number of classrooms required for given list of subjects: 5\n"
          ]
        }
      ]
    },
    {
      "cell_type": "code",
      "source": [
        "#To store subjects and marks entered by user in a dictionary as key-value pair\n",
        "student_dict={}\n",
        "m1=int(input(\"Enter marks obtained in SUB1:\"))\n",
        "student_dict.update({\"SUB1\":m1})\n",
        "m2=int(input(\"Enter marks obtained in SUB2:\"))\n",
        "student_dict.update({\"SUB2\":m2})\n",
        "m3=int(input(\"Enter marks obtained in SUB3:\"))\n",
        "student_dict.update({\"SUB3\":m3})\n",
        "\n",
        "print(student_dict)"
      ],
      "metadata": {
        "id": "Uu0gSAnsX7vi",
        "outputId": "d5d592b2-91ca-40fd-efdf-9fd6e301aea4",
        "colab": {
          "base_uri": "https://localhost:8080/"
        }
      },
      "execution_count": null,
      "outputs": [
        {
          "output_type": "stream",
          "name": "stdout",
          "text": [
            "Enter marks obtained in SUB1:95\n",
            "Enter marks obtained in SUB2:93\n",
            "Enter marks obtained in SUB3:85\n",
            "{'SUB1': 95, 'SUB2': 93, 'SUB3': 85}\n"
          ]
        }
      ]
    },
    {
      "cell_type": "code",
      "source": [
        "#To store 9&9.0 as separate values in the set\n",
        "#1. by storing one of them as a string value in set\n",
        "values={9,\"9.0\"}\n",
        "print(values,\"<--by storing one of them as a string.\")\n",
        "#2. by storing them as a tupple in set\n",
        "values={(\"float\",9.0),(\"int\",9)}\n",
        "print(values,\"<--by storing in tupple.\")"
      ],
      "metadata": {
        "colab": {
          "base_uri": "https://localhost:8080/"
        },
        "id": "6GbzHNItffjh",
        "outputId": "f46fd6fc-caad-4b9c-eb29-b28a01e24e23"
      },
      "execution_count": null,
      "outputs": [
        {
          "output_type": "stream",
          "name": "stdout",
          "text": [
            "{9, '9.0'} <--by storing one of them as a string.\n",
            "{('int', 9), ('float', 9.0)} <--by storing in tupple.\n"
          ]
        }
      ]
    },
    {
      "cell_type": "code",
      "source": [
        "#LECTURE 5"
      ],
      "metadata": {
        "id": "yIKk1LAdiNaA"
      },
      "execution_count": null,
      "outputs": []
    },
    {
      "cell_type": "code",
      "source": [
        "#Print numbers from 1 to 100\n",
        "i=1\n",
        "while i<=100:\n",
        "  print(i)\n",
        "  i+=1\n",
        "\n",
        "#Print numbers from 100 to 1\n",
        "j=100\n",
        "while j>=1:\n",
        "  print(j)\n",
        "  j-=1"
      ],
      "metadata": {
        "id": "3wmhW8G6iP1T",
        "colab": {
          "base_uri": "https://localhost:8080/"
        },
        "outputId": "704a68d2-badb-45a4-ffb5-db66fcf7737e",
        "collapsed": true
      },
      "execution_count": null,
      "outputs": [
        {
          "output_type": "stream",
          "name": "stdout",
          "text": [
            "1\n",
            "2\n",
            "3\n",
            "4\n",
            "5\n",
            "6\n",
            "7\n",
            "8\n",
            "9\n",
            "10\n",
            "11\n",
            "12\n",
            "13\n",
            "14\n",
            "15\n",
            "16\n",
            "17\n",
            "18\n",
            "19\n",
            "20\n",
            "21\n",
            "22\n",
            "23\n",
            "24\n",
            "25\n",
            "26\n",
            "27\n",
            "28\n",
            "29\n",
            "30\n",
            "31\n",
            "32\n",
            "33\n",
            "34\n",
            "35\n",
            "36\n",
            "37\n",
            "38\n",
            "39\n",
            "40\n",
            "41\n",
            "42\n",
            "43\n",
            "44\n",
            "45\n",
            "46\n",
            "47\n",
            "48\n",
            "49\n",
            "50\n",
            "51\n",
            "52\n",
            "53\n",
            "54\n",
            "55\n",
            "56\n",
            "57\n",
            "58\n",
            "59\n",
            "60\n",
            "61\n",
            "62\n",
            "63\n",
            "64\n",
            "65\n",
            "66\n",
            "67\n",
            "68\n",
            "69\n",
            "70\n",
            "71\n",
            "72\n",
            "73\n",
            "74\n",
            "75\n",
            "76\n",
            "77\n",
            "78\n",
            "79\n",
            "80\n",
            "81\n",
            "82\n",
            "83\n",
            "84\n",
            "85\n",
            "86\n",
            "87\n",
            "88\n",
            "89\n",
            "90\n",
            "91\n",
            "92\n",
            "93\n",
            "94\n",
            "95\n",
            "96\n",
            "97\n",
            "98\n",
            "99\n",
            "100\n",
            "100\n",
            "99\n",
            "98\n",
            "97\n",
            "96\n",
            "95\n",
            "94\n",
            "93\n",
            "92\n",
            "91\n",
            "90\n",
            "89\n",
            "88\n",
            "87\n",
            "86\n",
            "85\n",
            "84\n",
            "83\n",
            "82\n",
            "81\n",
            "80\n",
            "79\n",
            "78\n",
            "77\n",
            "76\n",
            "75\n",
            "74\n",
            "73\n",
            "72\n",
            "71\n",
            "70\n",
            "69\n",
            "68\n",
            "67\n",
            "66\n",
            "65\n",
            "64\n",
            "63\n",
            "62\n",
            "61\n",
            "60\n",
            "59\n",
            "58\n",
            "57\n",
            "56\n",
            "55\n",
            "54\n",
            "53\n",
            "52\n",
            "51\n",
            "50\n",
            "49\n",
            "48\n",
            "47\n",
            "46\n",
            "45\n",
            "44\n",
            "43\n",
            "42\n",
            "41\n",
            "40\n",
            "39\n",
            "38\n",
            "37\n",
            "36\n",
            "35\n",
            "34\n",
            "33\n",
            "32\n",
            "31\n",
            "30\n",
            "29\n",
            "28\n",
            "27\n",
            "26\n",
            "25\n",
            "24\n",
            "23\n",
            "22\n",
            "21\n",
            "20\n",
            "19\n",
            "18\n",
            "17\n",
            "16\n",
            "15\n",
            "14\n",
            "13\n",
            "12\n",
            "11\n",
            "10\n",
            "9\n",
            "8\n",
            "7\n",
            "6\n",
            "5\n",
            "4\n",
            "3\n",
            "2\n",
            "1\n"
          ]
        }
      ]
    },
    {
      "cell_type": "code",
      "source": [
        "#multiplication table of a number n using while loop\n",
        "n=int(input(\"Enter a number:\"))\n",
        "i=1\n",
        "while i<=10:\n",
        "  print(n*i)\n",
        "  i+=1"
      ],
      "metadata": {
        "colab": {
          "base_uri": "https://localhost:8080/"
        },
        "id": "hphfq2ic7aQe",
        "outputId": "27770821-0c6d-4b86-cb70-1808e3a957a0"
      },
      "execution_count": null,
      "outputs": [
        {
          "output_type": "stream",
          "name": "stdout",
          "text": [
            "Enter a number:5\n",
            "5\n",
            "10\n",
            "15\n",
            "20\n",
            "25\n",
            "30\n",
            "35\n",
            "40\n",
            "45\n",
            "50\n"
          ]
        }
      ]
    },
    {
      "cell_type": "code",
      "source": [
        "#print the elements of following list using while loop:\n",
        "#[1,4,9,16,25,36,49,64,81,100]\n",
        "ele=[]\n",
        "i=1\n",
        "while i<=10:\n",
        "  n=i*i\n",
        "  ele.append(n)\n",
        "  i+=1\n",
        "idx=0\n",
        "while idx<len(ele):\n",
        "  print(ele[idx])\n",
        "  idx+=1\n",
        "\n",
        "print(ele)"
      ],
      "metadata": {
        "colab": {
          "base_uri": "https://localhost:8080/"
        },
        "id": "3su6oxM88LXk",
        "outputId": "0f0d52c8-a892-490e-ed5a-d01a8d01ce91"
      },
      "execution_count": null,
      "outputs": [
        {
          "output_type": "stream",
          "name": "stdout",
          "text": [
            "1\n",
            "4\n",
            "9\n",
            "16\n",
            "25\n",
            "36\n",
            "49\n",
            "64\n",
            "81\n",
            "100\n",
            "[1, 4, 9, 16, 25, 36, 49, 64, 81, 100]\n"
          ]
        }
      ]
    },
    {
      "cell_type": "code",
      "source": [
        "#Search for a number x in this tuple using loop:\n",
        "'''LINEAR SEARCH'''\n",
        "#(1,4,9,16,25,36,49,64,81,100)\n",
        "\n",
        "ele=[] # Changed to a list to use append\n",
        "i=1\n",
        "while i<=10:\n",
        "  n=i*i\n",
        "  ele.append(n)\n",
        "  i+=1\n",
        "\n",
        "# Convert list to tuple\n",
        "ele = tuple(ele)\n",
        "\n",
        "x=int(input(\"Enter a number:\"))\n",
        "idx=0\n",
        "found = False # Flag to indicate if the number is found\n",
        "while idx<len(ele):\n",
        "  if ele[idx]==x:\n",
        "    print(x,\"belongs to given tuple\")\n",
        "    found = True\n",
        "    break # Exit the loop once the number is found\n",
        "  idx+=1\n",
        "\n",
        "if not found: # Check if the number was not found after the loop\n",
        "    print(x,\"doesnt belong to given tuple\")"
      ],
      "metadata": {
        "id": "fS4PDAdw93YQ",
        "colab": {
          "base_uri": "https://localhost:8080/"
        },
        "outputId": "248634dc-1394-4000-be80-3f878a7cb03e"
      },
      "execution_count": null,
      "outputs": [
        {
          "output_type": "stream",
          "name": "stdout",
          "text": [
            "Enter a number:9\n",
            "9 belongs to given tuple\n"
          ]
        }
      ]
    },
    {
      "cell_type": "code",
      "source": [
        "i=1\n",
        "while i<=5:\n",
        "  if(i==3):\n",
        "    i+=1      #whyy dis??\n",
        "    continue\n",
        "  print(i)\n",
        "  i+=1"
      ],
      "metadata": {
        "colab": {
          "base_uri": "https://localhost:8080/"
        },
        "id": "hxnCQ38tjP3g",
        "outputId": "cedaef8c-0b7d-4799-fc21-791d9449482c"
      },
      "execution_count": null,
      "outputs": [
        {
          "output_type": "stream",
          "name": "stdout",
          "text": [
            "1\n",
            "2\n",
            "4\n",
            "5\n"
          ]
        }
      ]
    },
    {
      "cell_type": "code",
      "source": [
        "#to traverse in data type like string list tupple we use for loop\n",
        "'''iterator ka kaam krna h...\n",
        "yani ki humare pass koi variable jiski value ko hum update kr rhe h..\n",
        "ya koi stoping condition h toh hum while loop use krte h'''\n",
        "#aisa koi kaam jo hum apne loop ke complete end ke baad krwana chahte h\n",
        "# usse hum \"else\" ke andr likhte h\n",
        "'''break ke baad else wala statement execute nhi hota h'''\n",
        "#range(10)-->range(stop)\n",
        "'''range(2,10)-->range(start,stop)\n",
        "   range(2,10,2)-->range(star,stop,step)\n",
        "\n"
      ],
      "metadata": {
        "id": "6BNA5wR0j1To"
      },
      "execution_count": null,
      "outputs": []
    },
    {
      "cell_type": "code",
      "source": [
        "#print elements using for loop\n",
        "num=[1,4,9,16,25,36,49,64,81,100]\n",
        "for i in num:\n",
        "  print(i)\n",
        "else:\n",
        "  print(num)\n",
        "  print(\"loop ended\")"
      ],
      "metadata": {
        "colab": {
          "base_uri": "https://localhost:8080/"
        },
        "id": "ILbkBPFOlgrP",
        "outputId": "14a9ffcc-7e84-42ca-9067-a9f7057c5ea5"
      },
      "execution_count": null,
      "outputs": [
        {
          "output_type": "stream",
          "name": "stdout",
          "text": [
            "1\n",
            "4\n",
            "9\n",
            "16\n",
            "25\n",
            "36\n",
            "49\n",
            "64\n",
            "81\n",
            "100\n",
            "[1, 4, 9, 16, 25, 36, 49, 64, 81, 100]\n",
            "loop ended\n"
          ]
        }
      ]
    },
    {
      "cell_type": "code",
      "source": [
        "#to print even numbers using for loop and range\n",
        "for i in range(2,10,2):\n",
        "  print(i)"
      ],
      "metadata": {
        "colab": {
          "base_uri": "https://localhost:8080/"
        },
        "id": "E1Oi3fOGxNmX",
        "outputId": "2f5ca45e-7695-4cc6-b381-e9d49f1a24b6"
      },
      "execution_count": null,
      "outputs": [
        {
          "output_type": "stream",
          "name": "stdout",
          "text": [
            "2\n",
            "4\n",
            "6\n",
            "8\n"
          ]
        }
      ]
    },
    {
      "cell_type": "code",
      "source": [
        "#USING FOR & RANGE\n",
        "#print 1-100\n",
        "for i in range(1,101):\n",
        "  print(i)"
      ],
      "metadata": {
        "colab": {
          "base_uri": "https://localhost:8080/"
        },
        "collapsed": true,
        "id": "7kJUKOJNyQgP",
        "outputId": "b910d52c-93d6-4529-bb24-7530ac8cb083"
      },
      "execution_count": null,
      "outputs": [
        {
          "output_type": "stream",
          "name": "stdout",
          "text": [
            "1\n",
            "2\n",
            "3\n",
            "4\n",
            "5\n",
            "6\n",
            "7\n",
            "8\n",
            "9\n",
            "10\n",
            "11\n",
            "12\n",
            "13\n",
            "14\n",
            "15\n",
            "16\n",
            "17\n",
            "18\n",
            "19\n",
            "20\n",
            "21\n",
            "22\n",
            "23\n",
            "24\n",
            "25\n",
            "26\n",
            "27\n",
            "28\n",
            "29\n",
            "30\n",
            "31\n",
            "32\n",
            "33\n",
            "34\n",
            "35\n",
            "36\n",
            "37\n",
            "38\n",
            "39\n",
            "40\n",
            "41\n",
            "42\n",
            "43\n",
            "44\n",
            "45\n",
            "46\n",
            "47\n",
            "48\n",
            "49\n",
            "50\n",
            "51\n",
            "52\n",
            "53\n",
            "54\n",
            "55\n",
            "56\n",
            "57\n",
            "58\n",
            "59\n",
            "60\n",
            "61\n",
            "62\n",
            "63\n",
            "64\n",
            "65\n",
            "66\n",
            "67\n",
            "68\n",
            "69\n",
            "70\n",
            "71\n",
            "72\n",
            "73\n",
            "74\n",
            "75\n",
            "76\n",
            "77\n",
            "78\n",
            "79\n",
            "80\n",
            "81\n",
            "82\n",
            "83\n",
            "84\n",
            "85\n",
            "86\n",
            "87\n",
            "88\n",
            "89\n",
            "90\n",
            "91\n",
            "92\n",
            "93\n",
            "94\n",
            "95\n",
            "96\n",
            "97\n",
            "98\n",
            "99\n",
            "100\n"
          ]
        }
      ]
    },
    {
      "cell_type": "code",
      "source": [
        "#print 100-1\n",
        "for j in range(100,0,-1):#step size can be negative\n",
        "  print(j)"
      ],
      "metadata": {
        "colab": {
          "base_uri": "https://localhost:8080/"
        },
        "collapsed": true,
        "id": "EduyFWWYymVZ",
        "outputId": "ff54b1dd-2d13-4fc8-fff6-b1553e8967a7"
      },
      "execution_count": null,
      "outputs": [
        {
          "output_type": "stream",
          "name": "stdout",
          "text": [
            "100\n",
            "99\n",
            "98\n",
            "97\n",
            "96\n",
            "95\n",
            "94\n",
            "93\n",
            "92\n",
            "91\n",
            "90\n",
            "89\n",
            "88\n",
            "87\n",
            "86\n",
            "85\n",
            "84\n",
            "83\n",
            "82\n",
            "81\n",
            "80\n",
            "79\n",
            "78\n",
            "77\n",
            "76\n",
            "75\n",
            "74\n",
            "73\n",
            "72\n",
            "71\n",
            "70\n",
            "69\n",
            "68\n",
            "67\n",
            "66\n",
            "65\n",
            "64\n",
            "63\n",
            "62\n",
            "61\n",
            "60\n",
            "59\n",
            "58\n",
            "57\n",
            "56\n",
            "55\n",
            "54\n",
            "53\n",
            "52\n",
            "51\n",
            "50\n",
            "49\n",
            "48\n",
            "47\n",
            "46\n",
            "45\n",
            "44\n",
            "43\n",
            "42\n",
            "41\n",
            "40\n",
            "39\n",
            "38\n",
            "37\n",
            "36\n",
            "35\n",
            "34\n",
            "33\n",
            "32\n",
            "31\n",
            "30\n",
            "29\n",
            "28\n",
            "27\n",
            "26\n",
            "25\n",
            "24\n",
            "23\n",
            "22\n",
            "21\n",
            "20\n",
            "19\n",
            "18\n",
            "17\n",
            "16\n",
            "15\n",
            "14\n",
            "13\n",
            "12\n",
            "11\n",
            "10\n",
            "9\n",
            "8\n",
            "7\n",
            "6\n",
            "5\n",
            "4\n",
            "3\n",
            "2\n",
            "1\n"
          ]
        }
      ]
    },
    {
      "cell_type": "code",
      "source": [
        "#print multiplication table of n\n",
        "n=int(input(\"Enter a number:\"))\n",
        "# for i in range(n,11*n,n):\n",
        "# print(i)\n",
        "\n",
        "for i in range(1,11):\n",
        "  print(i*n)"
      ],
      "metadata": {
        "colab": {
          "base_uri": "https://localhost:8080/"
        },
        "id": "l9g1XDyTzX9W",
        "outputId": "907b854e-42b9-460f-c3e3-5c269d692a94"
      },
      "execution_count": null,
      "outputs": [
        {
          "output_type": "stream",
          "name": "stdout",
          "text": [
            "Enter a number:6\n",
            "6\n",
            "12\n",
            "18\n",
            "24\n",
            "30\n",
            "36\n",
            "42\n",
            "48\n",
            "54\n",
            "60\n"
          ]
        }
      ]
    },
    {
      "cell_type": "code",
      "source": [
        "#RANDOM\n",
        "#find sum of first n numbers\n",
        "n=int(input(\"Enter a number:\"))\n",
        "s=n*(n+1)\n",
        "m=int(s/2)\n",
        "print(\"sum of first\",n,\"numbers;\",m)"
      ],
      "metadata": {
        "colab": {
          "base_uri": "https://localhost:8080/"
        },
        "id": "BemySIkS1tzW",
        "outputId": "da1205a7-91b0-4e10-c000-758d9752e2d3"
      },
      "execution_count": null,
      "outputs": [
        {
          "output_type": "stream",
          "name": "stdout",
          "text": [
            "Enter a number:10\n",
            "sum of first 10 numbers; 55\n"
          ]
        }
      ]
    },
    {
      "cell_type": "code",
      "source": [
        "#WHILE LOOP\n",
        "#find sum of first n numbers\n",
        "n=int(input(\"Enter a number:\"))\n",
        "i=1\n",
        "s=0\n",
        "while i<=n:\n",
        "  s=s+i\n",
        "  i+=1\n",
        "\n",
        "print(\"SUM=\",s)"
      ],
      "metadata": {
        "colab": {
          "base_uri": "https://localhost:8080/"
        },
        "id": "wNmPSqpy3fEH",
        "outputId": "3b1976dd-f66e-4b32-8b60-0f587649bf32"
      },
      "execution_count": null,
      "outputs": [
        {
          "output_type": "stream",
          "name": "stdout",
          "text": [
            "Enter a number:10\n",
            "SUM= 55\n"
          ]
        }
      ]
    },
    {
      "cell_type": "code",
      "source": [
        "n=int(input(\"Enter a number:\"))\n",
        "s=0\n",
        "for i in range(1,n+1):\n",
        "  s=s+i\n",
        "print(\"SUM=\",s)"
      ],
      "metadata": {
        "colab": {
          "base_uri": "https://localhost:8080/"
        },
        "id": "jD4tOKzK6ixk",
        "outputId": "f5a6538f-e3ed-4cf3-9a07-fd06acf6ea99"
      },
      "execution_count": null,
      "outputs": [
        {
          "output_type": "stream",
          "name": "stdout",
          "text": [
            "Enter a number:10\n",
            "SUM= 55\n"
          ]
        }
      ]
    },
    {
      "cell_type": "code",
      "source": [
        "#FOR LOOP\n",
        "#find factorial of first n numbers\n",
        "n=int(input(\"Enter a number:\"))\n",
        "s=1\n",
        "for i in range(1,n+1):\n",
        "  s=s*i\n",
        "  i+=1\n",
        "\n",
        "print(\"Factorial of\",n,\"=\",s)"
      ],
      "metadata": {
        "colab": {
          "base_uri": "https://localhost:8080/"
        },
        "id": "qgjl-1in46dc",
        "outputId": "a0687fdf-6eea-4e6b-80f0-657272399813"
      },
      "execution_count": null,
      "outputs": [
        {
          "output_type": "stream",
          "name": "stdout",
          "text": [
            "Enter a number:4\n",
            "Factorial of 4 = 24\n"
          ]
        }
      ]
    },
    {
      "cell_type": "code",
      "source": [
        "#LECTURE 6"
      ],
      "metadata": {
        "id": "T2yM33Mi8lJc"
      },
      "execution_count": null,
      "outputs": []
    },
    {
      "cell_type": "code",
      "source": [
        "#Average of 3 numbers\n",
        "def num(a,b,c):\n",
        "  av=(a+b+c)/3\n",
        "  return (av)\n",
        "\n",
        "x=int(input(\"Enter first number:\"))\n",
        "y=int(input(\"Enter second number:\"))\n",
        "z=int(input(\"Enter third number:\"))\n",
        "\n",
        "avg=num(x,y,z)\n",
        "#avg=int(avg)\n",
        "print(\"Average of 3 numbers:\",avg)\n"
      ],
      "metadata": {
        "colab": {
          "base_uri": "https://localhost:8080/"
        },
        "id": "bWGYSXuDRz9a",
        "outputId": "94dc439a-c087-48ac-feb7-2ee64d473513"
      },
      "execution_count": null,
      "outputs": [
        {
          "output_type": "stream",
          "name": "stdout",
          "text": [
            "Enter first number:50\n",
            "Enter second number:30\n",
            "Enter third number:20\n",
            "Average of 3 numbers: 33.333333333333336\n"
          ]
        }
      ]
    },
    {
      "cell_type": "code",
      "source": [
        "def calc_avg(a,b,c):\n",
        "  avg=(a+b+c)/3\n",
        "  return avg\n",
        "  print(avg)\n",
        "\n",
        "calc_avg(7,8,9)"
      ],
      "metadata": {
        "colab": {
          "base_uri": "https://localhost:8080/"
        },
        "id": "sYjHCPHwmQGw",
        "outputId": "21da84b7-3b6b-4904-a4eb-c96825f532e1"
      },
      "execution_count": null,
      "outputs": [
        {
          "output_type": "execute_result",
          "data": {
            "text/plain": [
              "8.0"
            ]
          },
          "metadata": {},
          "execution_count": 1
        }
      ]
    },
    {
      "cell_type": "code",
      "source": [
        "#sep and end in print function\n",
        "print(\"physicswallah\",\"alakh sir\") #sep=\" \" ; means automatic space after comma\n",
        "print(\"alakh sir\") #end=\"\\n\",means this statement will automatically be printed in next line\n",
        "\n",
        "#to print both statements in same line\n",
        "print(\"physicswallah\", end=\" \")\n",
        "print(\"alakh sir\")\n",
        "#this will print both statements in same line separated by space"
      ],
      "metadata": {
        "id": "Bakw4SprmunN",
        "colab": {
          "base_uri": "https://localhost:8080/"
        },
        "outputId": "b69c3667-3c8d-4d64-afc0-b9dc3a32f7b7"
      },
      "execution_count": null,
      "outputs": [
        {
          "output_type": "stream",
          "name": "stdout",
          "text": [
            "physicswallah alakh sir\n",
            "alakh sir\n",
            "physicswallah alakh sir\n"
          ]
        }
      ]
    },
    {
      "cell_type": "code",
      "source": [
        "#to find factorial of n\n",
        "def fac_n(n):\n",
        "  s=1\n",
        "  if (n==0):\n",
        "    return 1\n",
        "  for i in range(1,n+1):\n",
        "    s=s*i\n",
        "  return s\n",
        "\n",
        "print(fac_n(int(input(\"Enter a number:\"))))"
      ],
      "metadata": {
        "colab": {
          "base_uri": "https://localhost:8080/"
        },
        "id": "o_-fcmVSjh3O",
        "outputId": "e76461fe-12d8-4f27-f79c-1426fa953739"
      },
      "execution_count": null,
      "outputs": [
        {
          "output_type": "stream",
          "name": "stdout",
          "text": [
            "Enter a number:4\n",
            "24\n"
          ]
        }
      ]
    },
    {
      "cell_type": "code",
      "source": [
        "#to convert USD to INR\n",
        "def convert(m):\n",
        "  inr=m*80\n",
        "  return inr\n",
        "\n",
        "print(convert(float(input(\"Enter USD money value:\"))))"
      ],
      "metadata": {
        "colab": {
          "base_uri": "https://localhost:8080/"
        },
        "id": "cKQep0NhnOO3",
        "outputId": "55fe927b-6bf9-4a93-fc25-bdbcbde79569"
      },
      "execution_count": null,
      "outputs": [
        {
          "output_type": "stream",
          "name": "stdout",
          "text": [
            "Enter USD money value:3300\n",
            "264000.0\n"
          ]
        }
      ]
    },
    {
      "cell_type": "code",
      "source": [
        "#to print length of list usinf function\n",
        "l1=[1,2,3,4,5,6]\n",
        "l2=[\"sdfsdf\",\"aasge\",\"fgsegewr\",\"sfvrt\",67]\n",
        "l3=[54,67,9,\"dffgrt\",\"sfbdb\",23,78]\n",
        "\n",
        "\n",
        "def lenth_list(list):\n",
        "   return len(list)\n",
        "\n",
        "print(lenth_list(l1))\n",
        "print(lenth_list(l2))\n",
        "print(lenth_list(l3))\n",
        "\n",
        "#to print elements of list using functions\n",
        "def ele_list(list):\n",
        "  for i in list:\n",
        "    print(i,end=\" \")\n",
        "\n",
        "print(ele_list(l1))\n",
        "print(ele_list(l2))\n",
        "print(ele_list(l3))"
      ],
      "metadata": {
        "colab": {
          "base_uri": "https://localhost:8080/"
        },
        "id": "zPOrwKe6n_xg",
        "outputId": "43bd22d8-41dd-4f3e-d9d1-e579b5674237"
      },
      "execution_count": null,
      "outputs": [
        {
          "output_type": "stream",
          "name": "stdout",
          "text": [
            "6\n",
            "5\n",
            "7\n",
            "1 2 3 4 5 6 None\n",
            "sdfsdf aasge fgsegewr sfvrt 67 None\n",
            "54 67 9 dffgrt sfbdb 23 78 None\n"
          ]
        }
      ]
    },
    {
      "cell_type": "code",
      "source": [
        "#Input a number in a function and print odd or even\n",
        "def func_hw(n):\n",
        "  if(n%2==0):\n",
        "    print(\"EVEN\")\n",
        "  else:\n",
        "    print(n,\"ODD\")\n",
        "\n",
        "func_hw(int(input(\"Enter a number:\")))"
      ],
      "metadata": {
        "colab": {
          "base_uri": "https://localhost:8080/"
        },
        "id": "DH8ncOBsq8is",
        "outputId": "f3991ceb-2829-452e-82dc-b78bac2f17bf"
      },
      "execution_count": null,
      "outputs": [
        {
          "output_type": "stream",
          "name": "stdout",
          "text": [
            "Enter a number:8\n",
            "EVEN\n"
          ]
        }
      ]
    },
    {
      "cell_type": "code",
      "source": [
        "#recursive function\n",
        "def show(n):\n",
        "  if(n==0): #base case{when should recursion stop}\n",
        "    return #when we write it like this it means we are returning control not value\n",
        "  print(n)\n",
        "  show(n-1)\n",
        "  print(\"end\")\n",
        "\n",
        "show(3)"
      ],
      "metadata": {
        "colab": {
          "base_uri": "https://localhost:8080/"
        },
        "id": "AOpKn9F1jewF",
        "outputId": "80d71508-a338-4213-f873-ad3d4aade831"
      },
      "execution_count": null,
      "outputs": [
        {
          "output_type": "stream",
          "name": "stdout",
          "text": [
            "3\n",
            "2\n",
            "1\n",
            "end\n",
            "end\n",
            "end\n"
          ]
        }
      ]
    },
    {
      "cell_type": "code",
      "source": [
        "#INCOMPLETE!!!!!\n",
        "def sum(n):\n",
        "  if (n==0):\n",
        "    return\n",
        "  else:\n",
        "    s=(n-1)+n\n",
        "    return print(s)\n",
        "\n",
        "sum(5)"
      ],
      "metadata": {
        "colab": {
          "base_uri": "https://localhost:8080/"
        },
        "id": "9gvw1D0LIv6R",
        "outputId": "d49ca574-a924-4e00-bb7c-11daaf74c54b"
      },
      "execution_count": null,
      "outputs": [
        {
          "output_type": "stream",
          "name": "stdout",
          "text": [
            "9\n"
          ]
        }
      ]
    },
    {
      "cell_type": "code",
      "source": [
        "#LECTURE 7"
      ],
      "metadata": {
        "id": "tWI69ojIl94k"
      },
      "execution_count": null,
      "outputs": []
    },
    {
      "cell_type": "code",
      "source": [
        "f=open(\"sample.txt\",\"r\")\n",
        "\n",
        "line1=f.readline()\n",
        "print(line1)\n",
        "#an extra space gets printed after line1 since \\n is read at the end of line1\n",
        "f.close()"
      ],
      "metadata": {
        "colab": {
          "base_uri": "https://localhost:8080/"
        },
        "id": "eEo8VXZQnbFy",
        "outputId": "ebf93efc-0142-4d26-e165-98a435d0e1a5"
      },
      "execution_count": null,
      "outputs": [
        {
          "output_type": "stream",
          "name": "stdout",
          "text": [
            "I am learning python\n",
            "\n"
          ]
        }
      ]
    },
    {
      "cell_type": "code",
      "source": [
        "f=open(\"sample.txt\",\"w\") #{to create a file which doesn't exist}\n",
        "f.write(\"I am learning python\")\n",
        "f.close()\n",
        "\n",
        "import os\n",
        "os.remove(\"sample.txt\") # to delete a file"
      ],
      "metadata": {
        "id": "lVa0_ke4mGYr"
      },
      "execution_count": null,
      "outputs": []
    },
    {
      "cell_type": "code",
      "source": [
        "#to import a module which is not pre installed\n",
        "#pip install tensorflow{example}\n",
        "#or, pip3 install tensorflow"
      ],
      "metadata": {
        "id": "2eFY8vmfRQLY"
      },
      "execution_count": null,
      "outputs": []
    },
    {
      "cell_type": "code",
      "source": [
        "#To create a new file and data:-\n",
        "f=open(\"practice.txt\",\"w\")\n",
        "f.write(\"Hi everyone\")\n",
        "f.write(\"\\nwe are learning file I/O\")\n",
        "f.write(\"\\nusing java\")\n",
        "f.write(\"\\ni like programming in java\")\n",
        "f.close()"
      ],
      "metadata": {
        "id": "cml9Wb0LUpAI"
      },
      "execution_count": null,
      "outputs": []
    },
    {
      "cell_type": "code",
      "source": [
        "with open(\"practice.txt\",\"r\") as f:\n",
        "  data=f.read()\n",
        "\n",
        "new_data =data.replace(\"java\",\"python\")\n",
        "print(new_data)\n",
        "\n",
        "with open(\"practice.txt\",\"w\") as f:\n",
        "  f.write(new_data)"
      ],
      "metadata": {
        "colab": {
          "base_uri": "https://localhost:8080/"
        },
        "id": "0OJbrF48V4Np",
        "outputId": "9bf904da-1c65-45ec-87b9-073030fab93c"
      },
      "execution_count": null,
      "outputs": [
        {
          "output_type": "stream",
          "name": "stdout",
          "text": [
            "Hi everyone\n",
            "we are learning file I/O\n",
            "using python\n",
            "i like programming in python\n"
          ]
        }
      ]
    },
    {
      "cell_type": "code",
      "source": [
        "with open(\"practice.txt\",\"r\") as f:\n",
        "  data=f.read()\n",
        "\n",
        "s=data.find(\"learning\")\n",
        "if(s!=-1):\n",
        "  print(\"exists at\",s)\n",
        "else:\n",
        "  print(\"doesnt exists\")"
      ],
      "metadata": {
        "colab": {
          "base_uri": "https://localhost:8080/"
        },
        "id": "8aVvrsQ6Z0Ks",
        "outputId": "811b9223-3993-4e02-b23e-9bb2a2b4ecca"
      },
      "execution_count": null,
      "outputs": [
        {
          "output_type": "stream",
          "name": "stdout",
          "text": [
            "exists at 19\n"
          ]
        }
      ]
    },
    {
      "cell_type": "code",
      "source": [],
      "metadata": {
        "id": "6uyUGz7TcMbw"
      },
      "execution_count": null,
      "outputs": []
    },
    {
      "cell_type": "code",
      "source": [
        "#LECTURE 8{OOPS}"
      ],
      "metadata": {
        "id": "WZDoGBHu20Tr"
      },
      "execution_count": null,
      "outputs": []
    },
    {
      "cell_type": "code",
      "source": [
        "class Student: #class\n",
        "    name=\"karan\"\n",
        "\n",
        "s1=Student() #object(instance)\n",
        "print(s1.name)"
      ],
      "metadata": {
        "colab": {
          "base_uri": "https://localhost:8080/"
        },
        "id": "ea8pcO8Y24WM",
        "outputId": "c0d2fdc0-8a26-4d3f-d5ac-32a18958d0ac"
      },
      "execution_count": null,
      "outputs": [
        {
          "output_type": "stream",
          "name": "stdout",
          "text": [
            "karan\n"
          ]
        }
      ]
    },
    {
      "cell_type": "code",
      "source": [
        "class Car:\n",
        "  color=\"blue\"\n",
        "\n",
        "car1=Car()\n",
        "print(car1.color)"
      ],
      "metadata": {
        "colab": {
          "base_uri": "https://localhost:8080/"
        },
        "id": "O0mP5UAf6p1r",
        "outputId": "bb068c25-afea-4da2-d7df-57d50d4effd5"
      },
      "execution_count": null,
      "outputs": [
        {
          "output_type": "stream",
          "name": "stdout",
          "text": [
            "blue\n"
          ]
        }
      ]
    },
    {
      "cell_type": "code",
      "source": [
        "class Student:\n",
        "  college_name=input(\"Enter college name:\")#since it is not defined with self it is stored only once in meowmory\n",
        "  #constructor\n",
        "  def __init__(self,name,marks):\n",
        "    self.name=name\n",
        "    self.marks=marks\n",
        "    print(\"adding new student to database..\")\n",
        "\n",
        "  def hello(self):\n",
        "    print(\"HELLO\", self.name)\n",
        "\n",
        "s1=Student(input(\"Enter student name:\"),int(input(\"Enter marks scored by the student:\")))\n",
        "print(s1.name,s1.marks,s1.college_name)\n",
        "\n",
        "s1.hello()"
      ],
      "metadata": {
        "colab": {
          "base_uri": "https://localhost:8080/"
        },
        "id": "6hX0Kf1T7B1B",
        "outputId": "490d0f72-30fa-49b1-f8fc-a633c1a8bb31"
      },
      "execution_count": null,
      "outputs": [
        {
          "output_type": "stream",
          "name": "stdout",
          "text": [
            "Enter college name:abc college \n",
            "Enter student name:karan'\n",
            "Enter marks scored by the student:90\n",
            "adding new student to database..\n",
            "karan' 90 abc college \n",
            "HELLO karan'\n"
          ]
        }
      ]
    },
    {
      "cell_type": "code",
      "source": [
        "#obj attr>class attr"
      ],
      "metadata": {
        "id": "aXoDXEsHCGap"
      },
      "execution_count": null,
      "outputs": []
    },
    {
      "cell_type": "code",
      "source": [
        "class Student:\n",
        "  def __init__(self,name,m1,m2,m3):\n",
        "    self.name=name\n",
        "    self.m1=m1\n",
        "    self.m2=m2\n",
        "    self.m3=m3\n",
        "  def avg_marks(self):\n",
        "    s=self.m1+self.m2+self.m3\n",
        "    avg=s/3\n",
        "    return print(avg)\n",
        "s1=Student(input(\"Enter name:\"),50,78,67)\n",
        "s1.avg_marks()"
      ],
      "metadata": {
        "colab": {
          "base_uri": "https://localhost:8080/"
        },
        "id": "HMXJNCrDPQyV",
        "outputId": "af42b7c0-09bf-4a81-f98b-6074346a5298"
      },
      "execution_count": null,
      "outputs": [
        {
          "output_type": "stream",
          "name": "stdout",
          "text": [
            "Enter name:jvbekjh\n",
            "65.0\n"
          ]
        }
      ]
    },
    {
      "cell_type": "code",
      "source": [
        "class Account:\n",
        "  account_num=input(\"Enter account number=\")\n",
        "  balance_num=float(input(\"Enter balance before transaction=\"))\n",
        "\n",
        "  def __init__(self,credit,debit):\n",
        "    self.credit=credit\n",
        "    self.debit=debit\n",
        "\n",
        "  def balance(self):\n",
        "    self.balance=(self.balance_num+self.credit-self.debit)\n",
        "    return self.balance\n",
        "a1=Account(1000,1200)\n",
        "\n",
        "print(\"ACCOUNT NUMBER=\",a1.account_num)\n",
        "print(\"BALANCE BEFORE TRANSACTION=\",a1.balance_num)\n",
        "\n",
        "print(\"BALANCE AFTER TRANSACTION=\",a1.balance())"
      ],
      "metadata": {
        "colab": {
          "base_uri": "https://localhost:8080/"
        },
        "id": "Fu7LOjgJspqi",
        "outputId": "3864a692-7b4e-44ad-89d5-939cc6d29618"
      },
      "execution_count": null,
      "outputs": [
        {
          "output_type": "stream",
          "name": "stdout",
          "text": [
            "Enter account number=149621486214862\n",
            "Enter balance before transaction=500\n",
            "ACCOUNT NUMBER= 149621486214862\n",
            "BALANCE BEFORE TRANSACTION= 500.0\n",
            "BALANCE AFTER TRANSACTION= 300.0\n"
          ]
        }
      ]
    },
    {
      "cell_type": "code",
      "source": [
        "#LECTURE 9{OOPS PART2}"
      ],
      "metadata": {
        "id": "46EWPdBcuwPO"
      },
      "execution_count": null,
      "outputs": []
    },
    {
      "cell_type": "code",
      "source": [
        "#INHERITANCE\n",
        "class Car:\n",
        "  @staticmethod\n",
        "  def start():\n",
        "    print(\"car started..\")\n",
        "  @staticmethod\n",
        "  def stop():\n",
        "    print(\"car stopped..\")\n",
        "\n",
        "class ToyotaCar(Car):\n",
        "  def __init__(self,name):\n",
        "    self.name=name\n",
        "\n",
        "car1=ToyotaCar(\"Fortuner\")\n",
        "print(car1.start())"
      ],
      "metadata": {
        "id": "nlfdcZqE6sI7",
        "colab": {
          "base_uri": "https://localhost:8080/"
        },
        "outputId": "bb852b03-0eac-4a6b-be25-24bc394badb6"
      },
      "execution_count": null,
      "outputs": [
        {
          "output_type": "stream",
          "name": "stdout",
          "text": [
            "car started..\n",
            "None\n"
          ]
        }
      ]
    },
    {
      "cell_type": "code",
      "source": [
        "class Car:\n",
        "  def __init__(self,type):   #SUPER METHOD{TO ACCESS METHODS OF CLASS INSIDE ANOTHER CLASS}\n",
        "    self.type=type\n",
        "\n",
        "  @staticmethod\n",
        "  def start():\n",
        "    print(\"car started..\")\n",
        "  @staticmethod\n",
        "  def stop():\n",
        "    print(\"car stopped..\")\n",
        "\n",
        "class ToyotaCar(Car):\n",
        "  def __init__(self,name,type):\n",
        "    self.name=name\n",
        "    super().__init__(type)\n",
        "    super().start()\n",
        "\n",
        "car1=ToyotaCar(\"Fortuner\",\"electric\")\n",
        "print(car1.type)"
      ],
      "metadata": {
        "colab": {
          "base_uri": "https://localhost:8080/"
        },
        "id": "RGPywUYxO2P8",
        "outputId": "91e40ed8-bd50-4959-b861-804e9bcffe7e"
      },
      "execution_count": null,
      "outputs": [
        {
          "output_type": "stream",
          "name": "stdout",
          "text": [
            "car started..\n",
            "electric\n"
          ]
        }
      ]
    },
    {
      "cell_type": "code",
      "source": [
        "class Person:\n",
        "  name=\"anonymous\"\n",
        "\n",
        " # def change_name(self,name):\n",
        "   # self.__class__.name=name\n",
        "    #Person.name=name\n",
        "\n",
        "  @classmethod\n",
        "  def change_name(cls,name):\n",
        "    cls.name=name\n",
        "p1=Person()\n",
        "p1.change_name(\"KARAN ARJUN\")\n",
        "print(p1.name)\n",
        "print(Person.name)"
      ],
      "metadata": {
        "colab": {
          "base_uri": "https://localhost:8080/"
        },
        "id": "E5vUYZcjPL2s",
        "outputId": "89be9a59-d944-4c2d-ba95-e1c79f8d7650"
      },
      "execution_count": null,
      "outputs": [
        {
          "output_type": "stream",
          "name": "stdout",
          "text": [
            "KARAN ARJUN\n",
            "KARAN ARJUN\n"
          ]
        }
      ]
    },
    {
      "cell_type": "code",
      "source": [
        "#implicit overloading\n",
        "print(1+2)\n",
        "print(\"APNA\"+\"college\")#concatenate\n",
        "print([1,2,3,4]+[5,6,7,8])#merge"
      ],
      "metadata": {
        "id": "d2xP3nNwS8EL",
        "colab": {
          "base_uri": "https://localhost:8080/"
        },
        "outputId": "d3489447-1503-4af8-f71a-a8fb9c04af61"
      },
      "execution_count": null,
      "outputs": [
        {
          "output_type": "stream",
          "name": "stdout",
          "text": [
            "3\n",
            "APNAcollege\n",
            "[1, 2, 3, 4, 5, 6, 7, 8]\n"
          ]
        }
      ]
    },
    {
      "cell_type": "code",
      "source": [
        "class Complex:\n",
        "  def __init__(self,real,img):\n",
        "    self.real=real\n",
        "    self.img=img\n",
        "  def showNum(self):\n",
        "    print(self.real,\"i+\",self.img,\"j\")\n",
        "\n",
        "  def __add__(self,num2):\n",
        "    newReal=self.real+num2.real\n",
        "    newImg=self.img+num2.img\n",
        "    return Complex(newReal,newImg)\n",
        "\n",
        "num1=Complex(1,3)\n",
        "num1.showNum()\n",
        "\n",
        "num2=Complex(4,6)\n",
        "num2.showNum()\n",
        "#num3=num1.add(num2) {function}\n",
        "num3=num1+num2 #operator overloading\n",
        "num3.showNum()"
      ],
      "metadata": {
        "colab": {
          "base_uri": "https://localhost:8080/"
        },
        "id": "9e4ClpzrHkDS",
        "outputId": "b4e52865-aeb6-4bda-ad88-e4052a40a3ba"
      },
      "execution_count": null,
      "outputs": [
        {
          "output_type": "stream",
          "name": "stdout",
          "text": [
            "1 i+ 3 j\n",
            "4 i+ 6 j\n",
            "5 i+ 9 j\n"
          ]
        }
      ]
    },
    {
      "cell_type": "code",
      "source": [
        "class Circle:\n",
        "  def __init__(self,radius):\n",
        "    self.radius=radius\n",
        "\n",
        "  def area(self):\n",
        "    self.area=3.14*(self.radius)**2\n",
        "    return print(\"Area of given circle=\",self.area)\n",
        "\n",
        "  def perimeter(self):\n",
        "    self.peri=2*3.14*self.radius\n",
        "    return print(\"Perimeter of given circle=\",self.peri)\n",
        "\n",
        "c1=Circle(float(input(\"Enter radius of a circle:\")))\n",
        "c1.area()\n",
        "c1.perimeter()"
      ],
      "metadata": {
        "id": "S_r9K6X1t8bf",
        "colab": {
          "base_uri": "https://localhost:8080/"
        },
        "outputId": "09e966c5-6851-41d3-ad5a-5bdc59c75a4f"
      },
      "execution_count": null,
      "outputs": [
        {
          "output_type": "stream",
          "name": "stdout",
          "text": [
            "Enter radius of a circle:5\n",
            "Area of given circle= 78.5\n",
            "Perimeter of given circle= 31.400000000000002\n"
          ]
        }
      ]
    },
    {
      "cell_type": "code",
      "source": [
        "class Employee:\n",
        "  def __init__(self,role ,department,salary):\n",
        "    self.role=role\n",
        "    self.department=department\n",
        "    self.salary=salary\n",
        "\n",
        "  def showDetails(self):\n",
        "    print(\"EMPLOYEE DETAILS:\")\n",
        "    print(\"Role-->\",self.role)\n",
        "    print(\"Department-->\",self.department)\n",
        "    print(\"Salary-->\",self.salary)\n",
        "\n",
        "e1=Employee(input(\"Enter role of the employee:\"),input(\"Enter department of employee:\"),int(input(\"Enter salary earned by employee:\")))\n",
        "e1.showDetails()"
      ],
      "metadata": {
        "colab": {
          "base_uri": "https://localhost:8080/"
        },
        "id": "gJVE7Qx7AWsd",
        "outputId": "5cdfe670-8dd5-43c4-8900-fb88e3d45363"
      },
      "execution_count": null,
      "outputs": [
        {
          "output_type": "stream",
          "name": "stdout",
          "text": [
            "Enter role of the employee:SDE\n",
            "Enter department of employee:Technology\n",
            "Enter salary earned by employee:10000000\n",
            "EMPLOYEE DETAILS:\n",
            "Role--> SDE\n",
            "Department--> Technology\n",
            "Salary--> 10000000\n"
          ]
        }
      ]
    },
    {
      "cell_type": "code",
      "source": [
        "class Employee:\n",
        "  def __init__(self,role ,department,salary):\n",
        "    self.role=role\n",
        "    self.department=department\n",
        "    self.salary=salary\n",
        "\n",
        "  def showDetails(self):\n",
        "    print(\"EMPLOYEE DETAILS:\")\n",
        "    print(\"Role-->\",self.role)\n",
        "    print(\"Department-->\",self.department)\n",
        "    print(\"Salary-->\",self.salary)\n",
        "\n",
        "class Engineer(Employee):\n",
        "  def __init__(self,name,age,role,department,salary):\n",
        "    self.name=name\n",
        "    self.age=age\n",
        "    super().__init__(role,department,salary)\n",
        "    super().showDetails()\n",
        "\n",
        "eng=Engineer(input(\"Enter name:\"),int(input(\"Enter age:\")),input(\"Enter role:\"),input(\"Enter department:\"),int(input(\"Enter salary:\")))\n",
        "print(\"Name-->\",eng.name)\n",
        "print(\"Age-->\",eng.age)\n",
        "#eng.showDetails()"
      ],
      "metadata": {
        "colab": {
          "base_uri": "https://localhost:8080/"
        },
        "id": "dgKN3Hg7COga",
        "outputId": "5851ecfa-b296-4146-fc19-4605f3fa9d6f"
      },
      "execution_count": null,
      "outputs": [
        {
          "output_type": "stream",
          "name": "stdout",
          "text": [
            "Enter name:karan\n",
            "Enter age:32\n",
            "Enter role:sde\n",
            "Enter department:tech\n",
            "Enter salary:2000000\n",
            "EMPLOYEE DETAILS:\n",
            "Role--> sde\n",
            "Department--> tech\n",
            "Salary--> 2000000\n",
            "Name--> karan\n",
            "Age--> 32\n"
          ]
        }
      ]
    },
    {
      "cell_type": "code",
      "source": [
        "class Order:\n",
        "  def __init__(self,item,price):\n",
        "    self.item=item\n",
        "    self.price=price\n",
        "\n",
        "  def __gt__(self,o2):\n",
        "    return self.price>o2.price\n",
        "\n",
        "o1=Order(input(\"Enter name of item:\"),float(input(\"Enter price of item:\")))\n",
        "o2=Order(input(\"Enter name of item:\"),float(input(\"Enter price of item:\")))\n",
        "print(o1>o2)"
      ],
      "metadata": {
        "colab": {
          "base_uri": "https://localhost:8080/"
        },
        "id": "fU64-_-cESJp",
        "outputId": "6e8ff8cc-e6b7-419e-ec84-4cf740d81194"
      },
      "execution_count": null,
      "outputs": [
        {
          "output_type": "stream",
          "name": "stdout",
          "text": [
            "Enter name of item:ice cream \n",
            "Enter price of item:60\n",
            "Enter name of item:lollipop\n",
            "Enter price of item:10\n",
            "True\n"
          ]
        }
      ]
    },
    {
      "cell_type": "code",
      "source": [
        "#!!!!LECTURE END!!!!"
      ],
      "metadata": {
        "id": "KgooPk9uHhJI"
      },
      "execution_count": 1,
      "outputs": []
    },
    {
      "cell_type": "code",
      "source": [
        "print(\"this is my ref notes Do not copy!!!\")"
      ],
      "metadata": {
        "colab": {
          "base_uri": "https://localhost:8080/"
        },
        "id": "P6wv2Ot0Q79l",
        "outputId": "5479cf83-25ef-4e36-addb-37e32b9cff2a"
      },
      "execution_count": 2,
      "outputs": [
        {
          "output_type": "stream",
          "name": "stdout",
          "text": [
            "this is my ref notes Do not copy!!!\n"
          ]
        }
      ]
    },
    {
      "cell_type": "code",
      "source": [],
      "metadata": {
        "id": "-OZe4LZ-RDod"
      },
      "execution_count": null,
      "outputs": []
    }
  ]
}